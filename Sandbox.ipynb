{
 "cells": [
  {
   "cell_type": "markdown",
   "metadata": {
    "slideshow": {
     "slide_type": "slide"
    }
   },
   "source": [
    "# Sandbox\n",
    "_Will Kaufman_\n",
    "\n",
    "Thinking about \"the dining problem\"..."
   ]
  },
  {
   "cell_type": "code",
   "execution_count": 1,
   "metadata": {
    "slideshow": {
     "slide_type": "skip"
    }
   },
   "outputs": [],
   "source": [
    "import numpy as np"
   ]
  },
  {
   "cell_type": "markdown",
   "metadata": {
    "slideshow": {
     "slide_type": "slide"
    }
   },
   "source": [
    "# Simple dining problem\n",
    "\n",
    "Here's the simplest case: each night a student decides where to eat dinner. She has a choice of $n$ dining venues and is indifferent between all of them. However, she is busy and wants to minimize the time she waits for food. If the waiting time $t_W^{(i)}$ at venue $i$ follows a Poisson distribution with unknown parameter $\\lambda_i$\n",
    "$$\n",
    "t_W^{(i)} \\sim \\text{Pois}(\\lambda_i)\n",
    "$$\n",
    "what strategy would minimize the student's waiting time for meals?\n",
    "\n",
    "This formulation is exactly a multi-armed bandit problem."
   ]
  },
  {
   "cell_type": "code",
   "execution_count": 5,
   "metadata": {},
   "outputs": [],
   "source": [
    "lam = np.array([1, 10, 15])"
   ]
  },
  {
   "cell_type": "code",
   "execution_count": 19,
   "metadata": {},
   "outputs": [],
   "source": [
    "a = np.random.poisson(lam=lam, size=(70*3, lam.size))"
   ]
  },
  {
   "cell_type": "code",
   "execution_count": 21,
   "metadata": {},
   "outputs": [],
   "source": [
    "#a"
   ]
  },
  {
   "cell_type": "code",
   "execution_count": 22,
   "metadata": {},
   "outputs": [
    {
     "data": {
      "text/plain": [
       "array([ 0.86666667, 10.16190476, 15.14285714])"
      ]
     },
     "execution_count": 22,
     "metadata": {},
     "output_type": "execute_result"
    }
   ],
   "source": [
    "a.mean(axis=0)"
   ]
  },
  {
   "cell_type": "markdown",
   "metadata": {
    "slideshow": {
     "slide_type": "slide"
    }
   },
   "source": [
    "# Dining problem with student population\n",
    "\n",
    "Suppose there are $k$ students, all of whom want to minimize the total waiting time for their meals. But instead of the waiting times being normally distributed, the waiting time is linear in the number of students that dine at a specific venue. So if all $k$ students go to a single venue, the average waiting time will be $k/2$. What individual strategy would minimize a single student's waiting time? Are there equilibrium strategies that emerge? Are there unstable strategies?"
   ]
  },
  {
   "cell_type": "code",
   "execution_count": null,
   "metadata": {},
   "outputs": [],
   "source": []
  },
  {
   "cell_type": "markdown",
   "metadata": {
    "slideshow": {
     "slide_type": "slide"
    }
   },
   "source": [
    "# Dining preferences\n",
    "\n",
    "Obviously not all dining venues are equal, but first-year students haven't tried any of the venues and don't know which they prefer. What strategy would maximize their utility (some combo of food preference and waiting time) over an academic year?\n",
    "\n",
    "What happens if the student population changes? E.g. if new students with different preferences show up, thus changing waiting times at dining venues."
   ]
  },
  {
   "cell_type": "code",
   "execution_count": null,
   "metadata": {},
   "outputs": [],
   "source": []
  }
 ],
 "metadata": {
  "celltoolbar": "Slideshow",
  "kernelspec": {
   "display_name": "Python 3",
   "language": "python",
   "name": "python3"
  },
  "language_info": {
   "codemirror_mode": {
    "name": "ipython",
    "version": 3
   },
   "file_extension": ".py",
   "mimetype": "text/x-python",
   "name": "python",
   "nbconvert_exporter": "python",
   "pygments_lexer": "ipython3",
   "version": "3.8.5"
  }
 },
 "nbformat": 4,
 "nbformat_minor": 4
}
