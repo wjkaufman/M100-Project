{
 "cells": [
  {
   "cell_type": "markdown",
   "metadata": {},
   "source": [
    "# Sandbox\n",
    "_Will Kaufman_\n",
    "\n",
    "Thinking about \"the dining problem\"..."
   ]
  },
  {
   "cell_type": "code",
   "execution_count": 1,
   "metadata": {},
   "outputs": [],
   "source": [
    "import numpy as np"
   ]
  },
  {
   "cell_type": "markdown",
   "metadata": {},
   "source": [
    "## Simple dining problem\n",
    "\n",
    "Here's the simplest case: each night a student decides where to eat dinner. She has a choice of $n$ dining venues and is indifferent between all of them. However, she is busy and wants to minimize the time she waits for food. If the waiting time $t_W^{(i)}$ at venue $i$ is normally distributed with unknown parameters $\\mu_i, \\sigma_i$\n",
    "$$\n",
    "t_W^{(i)} \\sim \\mathcal{N}(\\mu_i, \\sigma_i)\n",
    "$$\n",
    "what strategy would minimize the student's waiting time for meals?\n",
    "\n",
    "This formulation is exactly a multi-armed bandit problem."
   ]
  },
  {
   "cell_type": "code",
   "execution_count": null,
   "metadata": {},
   "outputs": [],
   "source": []
  },
  {
   "cell_type": "markdown",
   "metadata": {},
   "source": [
    "## Dining problem with student population\n",
    "\n",
    "Suppose there are $k$ students, all of whom want to minimize the total waiting time for their meals. But instead of the waiting times being normally distributed, the waiting time is linear in the number of students that dine at a specific venue. So if all $k$ students go to a single venue, the average waiting time will be $k/2$. What individual strategy would minimize a single student's waiting time? Are there equilibrium strategies that emerge? Are there unstable strategies?"
   ]
  },
  {
   "cell_type": "code",
   "execution_count": null,
   "metadata": {},
   "outputs": [],
   "source": []
  },
  {
   "cell_type": "markdown",
   "metadata": {},
   "source": [
    "## Dining preferences\n",
    "\n",
    "Obviously not all dining venues are equal, but first-year students haven't tried any of the venues and don't know which they prefer. What strategy would maximize their utility (some combo of food preference and waiting time) over an academic year?\n",
    "\n",
    "What happens if the student population changes? E.g. if new students with different preferences show up, thus changing waiting times at dining venues."
   ]
  },
  {
   "cell_type": "code",
   "execution_count": null,
   "metadata": {},
   "outputs": [],
   "source": []
  }
 ],
 "metadata": {
  "kernelspec": {
   "display_name": "Python 3",
   "language": "python",
   "name": "python3"
  },
  "language_info": {
   "codemirror_mode": {
    "name": "ipython",
    "version": 3
   },
   "file_extension": ".py",
   "mimetype": "text/x-python",
   "name": "python",
   "nbconvert_exporter": "python",
   "pygments_lexer": "ipython3",
   "version": "3.8.5"
  }
 },
 "nbformat": 4,
 "nbformat_minor": 4
}
